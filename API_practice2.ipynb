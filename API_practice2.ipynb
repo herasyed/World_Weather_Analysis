{
 "cells": [
  {
   "cell_type": "code",
   "execution_count": 19,
   "id": "c2245b8b",
   "metadata": {},
   "outputs": [],
   "source": [
    "# Create a practice set of random latitude and longitude combinations.\n",
    "x = [25.12903645, 25.92017388, 26.62509167, -59.98969384, 37.30571269]\n",
    "y = [-67.59741259, 11.09532135, 74.84233102, -76.89176677, -61.13376282]\n",
    "\n",
    "# Convert to list \n",
    "coordinates = list(map(list, zip(x, y)))"
   ]
  },
  {
   "cell_type": "code",
   "execution_count": 20,
   "id": "2308f6fb",
   "metadata": {},
   "outputs": [
    {
     "name": "stdout",
     "output_type": "stream",
     "text": [
      "[25.12903645, -67.59741259]\n",
      "[25.92017388, 11.09532135]\n",
      "[26.62509167, 74.84233102]\n",
      "[-59.98969384, -76.89176677]\n",
      "[37.30571269, -61.13376282]\n"
     ]
    }
   ],
   "source": [
    "for coordinate in coordinates:\n",
    "    print(coordinate)"
   ]
  },
  {
   "cell_type": "code",
   "execution_count": 21,
   "id": "c06b6bb2",
   "metadata": {},
   "outputs": [],
   "source": [
    "# Use the citipy module to determine city based on latitude and longitude.\n",
    "from citipy import citipy"
   ]
  },
  {
   "cell_type": "code",
   "execution_count": 22,
   "id": "f63499cd",
   "metadata": {},
   "outputs": [
    {
     "name": "stdout",
     "output_type": "stream",
     "text": [
      "[25.12903645, -67.59741259]\n",
      "cockburn town tc\n",
      "[25.92017388, 11.09532135]\n",
      "gat ly\n",
      "[26.62509167, 74.84233102]\n",
      "parvatsar in\n",
      "[-59.98969384, -76.89176677]\n",
      "punta arenas cl\n",
      "[37.30571269, -61.13376282]\n",
      "saint george bm\n"
     ]
    }
   ],
   "source": [
    "# Display the latitude and longitude combinations.\n",
    "\n",
    "for coordinate in coordinates:\n",
    "    print(coordinate)\n",
    "    print(citipy.nearest_city(coordinate[0], coordinate[1]).city_name,\n",
    "          citipy.nearest_city(coordinate[0], coordinate[1]).country_code)"
   ]
  }
 ],
 "metadata": {
  "kernelspec": {
   "display_name": "PythonData",
   "language": "python",
   "name": "pythondata"
  },
  "language_info": {
   "codemirror_mode": {
    "name": "ipython",
    "version": 3
   },
   "file_extension": ".py",
   "mimetype": "text/x-python",
   "name": "python",
   "nbconvert_exporter": "python",
   "pygments_lexer": "ipython3",
   "version": "3.7.10"
  }
 },
 "nbformat": 4,
 "nbformat_minor": 5
}
